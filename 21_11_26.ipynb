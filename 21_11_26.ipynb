{
  "nbformat": 4,
  "nbformat_minor": 0,
  "metadata": {
    "colab": {
      "name": "21.11.26",
      "provenance": [],
      "collapsed_sections": [],
      "authorship_tag": "ABX9TyPJ8c23OPMEf6cHhS91QiMc",
      "include_colab_link": true
    },
    "kernelspec": {
      "name": "python3",
      "display_name": "Python 3"
    },
    "language_info": {
      "name": "python"
    }
  },
  "cells": [
    {
      "cell_type": "markdown",
      "metadata": {
        "id": "view-in-github",
        "colab_type": "text"
      },
      "source": [
        "<a href=\"https://colab.research.google.com/github/qhfmaekf/qhfmaekf/blob/main/21_11_26.ipynb\" target=\"_parent\"><img src=\"https://colab.research.google.com/assets/colab-badge.svg\" alt=\"Open In Colab\"/></a>"
      ]
    },
    {
      "cell_type": "code",
      "metadata": {
        "colab": {
          "base_uri": "https://localhost:8080/"
        },
        "id": "AUq1qknlpY1d",
        "outputId": "9274e4bc-5488-4a81-ccb5-87891f3f84d3"
      },
      "source": [
        "#도전문제 6장\n",
        "i=1\n",
        "while i<=9:\n",
        "  j=1\n",
        "  while j<=9:\n",
        "    print(i, \"*\", j, \"=\", i*j)\n",
        "    j=j+1\n",
        "  print(\" \")\n",
        "  i=i+1"
      ],
      "execution_count": 1,
      "outputs": [
        {
          "output_type": "stream",
          "name": "stdout",
          "text": [
            "1 * 1 = 1\n",
            "1 * 2 = 2\n",
            "1 * 3 = 3\n",
            "1 * 4 = 4\n",
            "1 * 5 = 5\n",
            "1 * 6 = 6\n",
            "1 * 7 = 7\n",
            "1 * 8 = 8\n",
            "1 * 9 = 9\n",
            " \n",
            "2 * 1 = 2\n",
            "2 * 2 = 4\n",
            "2 * 3 = 6\n",
            "2 * 4 = 8\n",
            "2 * 5 = 10\n",
            "2 * 6 = 12\n",
            "2 * 7 = 14\n",
            "2 * 8 = 16\n",
            "2 * 9 = 18\n",
            " \n",
            "3 * 1 = 3\n",
            "3 * 2 = 6\n",
            "3 * 3 = 9\n",
            "3 * 4 = 12\n",
            "3 * 5 = 15\n",
            "3 * 6 = 18\n",
            "3 * 7 = 21\n",
            "3 * 8 = 24\n",
            "3 * 9 = 27\n",
            " \n",
            "4 * 1 = 4\n",
            "4 * 2 = 8\n",
            "4 * 3 = 12\n",
            "4 * 4 = 16\n",
            "4 * 5 = 20\n",
            "4 * 6 = 24\n",
            "4 * 7 = 28\n",
            "4 * 8 = 32\n",
            "4 * 9 = 36\n",
            " \n",
            "5 * 1 = 5\n",
            "5 * 2 = 10\n",
            "5 * 3 = 15\n",
            "5 * 4 = 20\n",
            "5 * 5 = 25\n",
            "5 * 6 = 30\n",
            "5 * 7 = 35\n",
            "5 * 8 = 40\n",
            "5 * 9 = 45\n",
            " \n",
            "6 * 1 = 6\n",
            "6 * 2 = 12\n",
            "6 * 3 = 18\n",
            "6 * 4 = 24\n",
            "6 * 5 = 30\n",
            "6 * 6 = 36\n",
            "6 * 7 = 42\n",
            "6 * 8 = 48\n",
            "6 * 9 = 54\n",
            " \n",
            "7 * 1 = 7\n",
            "7 * 2 = 14\n",
            "7 * 3 = 21\n",
            "7 * 4 = 28\n",
            "7 * 5 = 35\n",
            "7 * 6 = 42\n",
            "7 * 7 = 49\n",
            "7 * 8 = 56\n",
            "7 * 9 = 63\n",
            " \n",
            "8 * 1 = 8\n",
            "8 * 2 = 16\n",
            "8 * 3 = 24\n",
            "8 * 4 = 32\n",
            "8 * 5 = 40\n",
            "8 * 6 = 48\n",
            "8 * 7 = 56\n",
            "8 * 8 = 64\n",
            "8 * 9 = 72\n",
            " \n",
            "9 * 1 = 9\n",
            "9 * 2 = 18\n",
            "9 * 3 = 27\n",
            "9 * 4 = 36\n",
            "9 * 5 = 45\n",
            "9 * 6 = 54\n",
            "9 * 7 = 63\n",
            "9 * 8 = 72\n",
            "9 * 9 = 81\n",
            " \n"
          ]
        }
      ]
    },
    {
      "cell_type": "code",
      "metadata": {
        "colab": {
          "base_uri": "https://localhost:8080/"
        },
        "id": "FGcRP15AqFBo",
        "outputId": "8afb5eb6-0edb-401f-f2a2-ee21d3ed5493"
      },
      "source": [
        "import random\n",
        "\n",
        "tries=0\n",
        "guess=0\n",
        "answer=random.randint(1, 100)\n",
        "\n",
        "print(\"1부터 100 사이의 숫자를 맞추시오: \")\n",
        "\n",
        "while guess !=answer:\n",
        "    if tries < 10:\n",
        "      guess=int(input(\"숫자를 입력하시오: \"))\n",
        "      tries=tries+1\n",
        "      if guess < answer:\n",
        "        print(\"낮음!\")\n",
        "      elif guess > answer:\n",
        "        print(\"높음!\")\n",
        "    else:\n",
        "      print(\"시도횟수를 초과하였습니다.\")\n",
        "      break\n",
        "\n",
        "\n",
        "if guess == answer:\n",
        "     print(\"축하합니다. 시도횟수= \", tries)\n",
        "else:\n",
        "  print(\"정답은 \", answer)"
      ],
      "execution_count": 6,
      "outputs": [
        {
          "output_type": "stream",
          "name": "stdout",
          "text": [
            "1부터 100 사이의 숫자를 맞추시오: \n",
            "숫자를 입력하시오: 65\n",
            "낮음!\n",
            "숫자를 입력하시오: 89\n",
            "높음!\n",
            "숫자를 입력하시오: 30\n",
            "낮음!\n",
            "숫자를 입력하시오: 85\n",
            "낮음!\n",
            "숫자를 입력하시오: 99\n",
            "높음!\n",
            "숫자를 입력하시오: 100\n",
            "높음!\n",
            "숫자를 입력하시오: 45\n",
            "낮음!\n",
            "숫자를 입력하시오: 101\n",
            "높음!\n",
            "숫자를 입력하시오: 200\n",
            "높음!\n",
            "숫자를 입력하시오: 80000000000\n",
            "높음!\n",
            "시도횟수를 초과하였습니다.\n",
            "정답은  86\n"
          ]
        }
      ]
    },
    {
      "cell_type": "code",
      "metadata": {
        "colab": {
          "base_uri": "https://localhost:8080/"
        },
        "id": "wQjtUf9FqvEa",
        "outputId": "46dec67a-8be7-4146-8110-1876202f1409"
      },
      "source": [
        "import random\n",
        "\n",
        "while True:\n",
        "  q=random.randint(0, 1)\n",
        "  x=random.randint(1, 100)\n",
        "  y=random.randint(1, 100)\n",
        "  if(q==1)&(x>y):\n",
        "    print(x, \"-\", y, \"=\", end=\" \")\n",
        "    answer=int(input())\n",
        "    if answer==x-y:\n",
        "      print(\"잘했어요!!\")\n",
        "    else:\n",
        "      print(\"다음 번에는 잘할 수 있죠?\")\n",
        "  else:\n",
        "    print(x, \"+\", y, \"=\", end=\" \")\n",
        "    answer=int(input())\n",
        "    if answer==x+y:\n",
        "      print(\"잘했어요!!\")\n",
        "    else:\n",
        "      print(\"다음 번에는 잘할 수 있죠?\")\n"
      ],
      "execution_count": null,
      "outputs": [
        {
          "output_type": "stream",
          "name": "stdout",
          "text": [
            "64 + 67 = 131\n",
            "잘했어요!!\n",
            "85 + 64 = 149\n",
            "잘했어요!!\n",
            "94 + 98 = 192\n",
            "잘했어요!!\n",
            "57 + 85 = 142\n",
            "잘했어요!!\n",
            "83 + 67 = 150\n",
            "잘했어요!!\n",
            "80 - 45 = 35\n",
            "잘했어요!!\n",
            "64 + 78 = 142\n",
            "잘했어요!!\n",
            "43 + 34 = 77\n",
            "잘했어요!!\n",
            "69 + 2 = 71\n",
            "잘했어요!!\n",
            "66 - 4 = 62\n",
            "잘했어요!!\n",
            "33 + 39 = 72\n",
            "잘했어요!!\n",
            "17 + 51 = 68\n",
            "잘했어요!!\n",
            "34 + 54 = 88\n",
            "잘했어요!!\n",
            "99 - 72 = 27\n",
            "잘했어요!!\n",
            "75 + 24 = 99\n",
            "잘했어요!!\n",
            "46 - 22 = 54\n",
            "다음 번에는 잘할 수 있죠?\n",
            "22 + 77 = 55\n",
            "다음 번에는 잘할 수 있죠?\n",
            "63 - 22 = "
          ]
        }
      ]
    },
    {
      "cell_type": "code",
      "metadata": {
        "colab": {
          "base_uri": "https://localhost:8080/"
        },
        "id": "zPdXLUt1tlBj",
        "outputId": "7dbf6ebd-0bbf-44f3-b623-4169d9730936"
      },
      "source": [
        "import random \n",
        "number=random.randint(1, 8)\n",
        "\n",
        "list=[\"한 점의 의심도 없이 맞습니다.\", \"할 수 있습니다.\", \"물론입니다.\", \"글쎼요. 열심히 해야 할 것입니다.\", \"안 될 것 같습니다.\", \"조금 더 노력하세요.\", \"행운을 빕니다.\", \"다음 달에 할 수 있을 것입니다.\"]\n",
        "\n",
        "while True:\n",
        "  name=input(\"이름:(종료하려면 엔터키)\")\n",
        "  if name==\"\":\n",
        "    break;\n",
        "  question=input(\"무엇에 대하여 알고 싶은가요?\")\n",
        "  print(name, \"님\", \"\\\"\", question, \"\\\"에 대하여 질문 주셨군요.\")\n",
        "  print(\"운명의 주사위를 굴려볼게요....\")\n",
        "  print(list[number-1])"
      ],
      "execution_count": 4,
      "outputs": [
        {
          "name": "stdout",
          "output_type": "stream",
          "text": [
            "이름:(종료하려면 엔터키)김은서\n",
            "무엇에 대하여 알고 싶은가요?쭈꾸미 볶음ㅈ 몇 개 살까\n",
            "김은서 님 \" 쭈꾸미 볶음ㅈ 몇 개 살까 \"에 대하여 질문 주셨군요.\n",
            "운명의 주사위를 굴려볼게요....\n",
            "물론입니다.\n",
            "이름:(종료하려면 엔터키)\n"
          ]
        }
      ]
    }
  ]
}