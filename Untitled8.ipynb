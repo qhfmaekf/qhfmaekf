{
  "nbformat": 4,
  "nbformat_minor": 0,
  "metadata": {
    "colab": {
      "name": "Untitled8.ipynb",
      "provenance": [],
      "authorship_tag": "ABX9TyOl8DRVs+lLHaCPh66fsJCC",
      "include_colab_link": true
    },
    "kernelspec": {
      "name": "python3",
      "display_name": "Python 3"
    },
    "language_info": {
      "name": "python"
    }
  },
  "cells": [
    {
      "cell_type": "markdown",
      "metadata": {
        "id": "view-in-github",
        "colab_type": "text"
      },
      "source": [
        "<a href=\"https://colab.research.google.com/github/qhfmaekf/qhfmaekf/blob/main/Untitled8.ipynb\" target=\"_parent\"><img src=\"https://colab.research.google.com/assets/colab-badge.svg\" alt=\"Open In Colab\"/></a>"
      ]
    },
    {
      "cell_type": "code",
      "metadata": {
        "colab": {
          "base_uri": "https://localhost:8080/"
        },
        "id": "Ew9sEi2gs2cz",
        "outputId": "9bdd971c-7f97-4d64-f2d0-278e5c0d6115"
      },
      "source": [
        "score=int(input(\"성적을 입력하시오.\"))\n",
        "if score >= 90:\n",
        "  print(\"A등급입니다.\")\n",
        "elif score >= 80:\n",
        "  print(\"B등급입니다.\")\n",
        "elif score >= 70:\n",
        "  print(\"C급등입니다.\")\n",
        "else:\n",
        "  print(\"다음 학기엔 조금 더 분발하세요!\")"
      ],
      "execution_count": 4,
      "outputs": [
        {
          "output_type": "stream",
          "name": "stdout",
          "text": [
            "성적을 입력하시오.50\n",
            "다음 학기엔 조금 더 분발하세요!\n"
          ]
        }
      ]
    },
    {
      "cell_type": "code",
      "metadata": {
        "id": "76dGfRpMvHsT"
      },
      "source": [
        ""
      ],
      "execution_count": null,
      "outputs": []
    }
  ]
}