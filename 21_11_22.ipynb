{
  "nbformat": 4,
  "nbformat_minor": 0,
  "metadata": {
    "colab": {
      "name": "21.11.22",
      "provenance": [],
      "authorship_tag": "ABX9TyMzMLCcYaJcAcrPh4qFt9Rs",
      "include_colab_link": true
    },
    "kernelspec": {
      "name": "python3",
      "display_name": "Python 3"
    },
    "language_info": {
      "name": "python"
    }
  },
  "cells": [
    {
      "cell_type": "markdown",
      "metadata": {
        "id": "view-in-github",
        "colab_type": "text"
      },
      "source": [
        "<a href=\"https://colab.research.google.com/github/qhfmaekf/qhfmaekf/blob/main/21_11_22.ipynb\" target=\"_parent\"><img src=\"https://colab.research.google.com/assets/colab-badge.svg\" alt=\"Open In Colab\"/></a>"
      ]
    },
    {
      "cell_type": "code",
      "metadata": {
        "colab": {
          "base_uri": "https://localhost:8080/"
        },
        "id": "Jg68WC3YClO6",
        "outputId": "31d9ea87-8411-4987-f5c7-c432406b403a"
      },
      "source": [
        "age = 20 \n",
        "if age <= 30 and age <= 50:\n",
        "  print(\"20살 미만\")\n",
        "else:\n",
        "  print(\"20살 이상\")"
      ],
      "execution_count": 3,
      "outputs": [
        {
          "output_type": "stream",
          "name": "stdout",
          "text": [
            "20살 미만\n"
          ]
        }
      ]
    },
    {
      "cell_type": "code",
      "metadata": {
        "colab": {
          "base_uri": "https://localhost:8080/"
        },
        "id": "CvGklkcCEajG",
        "outputId": "f97e45e0-24a4-459c-9c24-fab3c77adfa5"
      },
      "source": [
        "temp = int(input(\"현재 온도를 입력하시오.: \"))\n",
        "\n",
        "if temp >= 25:\n",
        "  print(\"반바지를 입으세요.\")\n",
        "else:\n",
        "  print(\"긴바지를 입으세요.\")"
      ],
      "execution_count": 5,
      "outputs": [
        {
          "output_type": "stream",
          "name": "stdout",
          "text": [
            "현재 온도를 입력하시오.: 20\n",
            "긴바지를 입으세요.\n"
          ]
        }
      ]
    },
    {
      "cell_type": "code",
      "metadata": {
        "colab": {
          "base_uri": "https://localhost:8080/"
        },
        "id": "7MZdrBUaFFbt",
        "outputId": "c0ea1ea1-307d-438a-818d-ba24c13ff209"
      },
      "source": [
        "score = int(input(\"점수를 입력하시오.: \"))\n",
        "if score >= 90:\n",
        "  print(\"A예요.\") \n",
        "elif score >=80:\n",
        "  print(\"B예요.\")\n",
        "elif score >=70:\n",
        "  print(\"C예요.\")\n",
        "elif score >= 60:\n",
        "  print(\"D예요.\")\n",
        "else:\n",
        "  print(\"F예요. 내년에 또 봐요.\")\n"
      ],
      "execution_count": 11,
      "outputs": [
        {
          "output_type": "stream",
          "name": "stdout",
          "text": [
            "점수를 입력하시오.: 55\n",
            "F예요. 내년에 또 봐요.\n"
          ]
        }
      ]
    },
    {
      "cell_type": "code",
      "metadata": {
        "colab": {
          "base_uri": "https://localhost:8080/"
        },
        "id": "fJfRd7BKG97H",
        "outputId": "031f7a48-2d97-40fa-86dc-9d79a19ffc98"
      },
      "source": [
        "import random\n",
        "x= random.randint(1, 100)\n",
        "y= random.randint(1, 100)\n",
        "\n",
        "answer = int(input(str(x)+\"-\"+str(y)+\"=\"))\n",
        "if answer == x-y:\n",
        "  print(\"맞았습니다.\")\n",
        "else:\n",
        "  print(\"틀렸습니다.\")"
      ],
      "execution_count": 13,
      "outputs": [
        {
          "output_type": "stream",
          "name": "stdout",
          "text": [
            "65-20=45\n",
            "맞았습니다.\n"
          ]
        }
      ]
    },
    {
      "cell_type": "code",
      "metadata": {
        "colab": {
          "base_uri": "https://localhost:8080/"
        },
        "id": "CCO8feVHI8G7",
        "outputId": "8b6a1945-3464-428b-a859-5c95edb8ba0b"
      },
      "source": [
        "n=int(input(\"정수를 입력하시오.: \"))\n",
        "if n%2 == 0 and n%3 == 0:\n",
        "  print(\"2와 3으로 나누어 떨어져요.\")\n",
        "else:\n",
        "  print(\"안돼요.\")"
      ],
      "execution_count": 14,
      "outputs": [
        {
          "output_type": "stream",
          "name": "stdout",
          "text": [
            "정수를 입력하시오.: 6\n",
            "2와 3으로 나누어 떨어져요.\n"
          ]
        }
      ]
    },
    {
      "cell_type": "code",
      "metadata": {
        "colab": {
          "base_uri": "https://localhost:8080/"
        },
        "id": "yX_PN-h4LK4L",
        "outputId": "5791b59a-c581-4933-ecf3-bd4f81c073fb"
      },
      "source": [
        "for i in range(2, 101):\n",
        "    if i%2==0:\n",
        "      print(i, end = \"\")\n",
        "      "
      ],
      "execution_count": 16,
      "outputs": [
        {
          "output_type": "stream",
          "name": "stdout",
          "text": [
            "2468101214161820222426283032343638404244464850525456586062646668707274767880828486889092949698100"
          ]
        }
      ]
    }
  ]
}