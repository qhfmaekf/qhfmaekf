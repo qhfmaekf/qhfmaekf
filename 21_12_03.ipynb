{
  "nbformat": 4,
  "nbformat_minor": 0,
  "metadata": {
    "colab": {
      "name": "21.12.03",
      "provenance": [],
      "authorship_tag": "ABX9TyO3qdFfDVjogpT+j2PQ6OuT",
      "include_colab_link": true
    },
    "kernelspec": {
      "name": "python3",
      "display_name": "Python 3"
    },
    "language_info": {
      "name": "python"
    }
  },
  "cells": [
    {
      "cell_type": "markdown",
      "metadata": {
        "id": "view-in-github",
        "colab_type": "text"
      },
      "source": [
        "<a href=\"https://colab.research.google.com/github/qhfmaekf/qhfmaekf/blob/main/21_12_03.ipynb\" target=\"_parent\"><img src=\"https://colab.research.google.com/assets/colab-badge.svg\" alt=\"Open In Colab\"/></a>"
      ]
    },
    {
      "cell_type": "code",
      "metadata": {
        "colab": {
          "base_uri": "https://localhost:8080/"
        },
        "id": "Rvk4K3rn8Yja",
        "outputId": "c7ac8645-5e34-4dee-d198-2579af1f436e"
      },
      "source": [
        "#연습문제 7장 5번\n",
        "def happyBirthday(person):\n",
        "  print(\"Happy Birthday to you!\")\n",
        "  print(\"Happy Birthday to you!\")\n",
        "  print(\"Happy Birthday, dear \"+person)\n",
        "  print(\"Happy Birthday to you!\")\n",
        "\n",
        "happyBirthday(\"홍길동\")"
      ],
      "execution_count": 1,
      "outputs": [
        {
          "output_type": "stream",
          "name": "stdout",
          "text": [
            "Happy Birthday to you!\n",
            "Happy Birthday to you!\n",
            "Happy Birthday, dear 홍길동\n",
            "Happy Birthday to you!\n"
          ]
        }
      ]
    },
    {
      "cell_type": "code",
      "metadata": {
        "colab": {
          "base_uri": "https://localhost:8080/"
        },
        "id": "hjquHSb29uqo",
        "outputId": "755e1330-8bfc-4feb-a45d-c63917392fff"
      },
      "source": [
        "def sumProblem (x, y):\n",
        "    sum=x+y\n",
        "    sentence=\"정수\"+str(x)+\"+\"+str(y)+\"의 합은?\"\n",
        "    print(sentence)\n",
        "\n",
        "def main():\n",
        "  a=int(input(\"첫 번째 정수: \"))\n",
        "  b=int(input(\"두 번째 정수: \"))\n",
        "  sumProblem(a, b)\n",
        "\n",
        "main()"
      ],
      "execution_count": 4,
      "outputs": [
        {
          "output_type": "stream",
          "name": "stdout",
          "text": [
            "첫 번째 정수: 6\n",
            "두 번째 정수: 24\n",
            "정수6+24의 합은?\n"
          ]
        }
      ]
    },
    {
      "cell_type": "code",
      "metadata": {
        "colab": {
          "base_uri": "https://localhost:8080/"
        },
        "id": "U3cFGTu---Xw",
        "outputId": "e2f9f9f4-3361-41d0-fd25-eb6a0d50212a"
      },
      "source": [
        "PI=3.14159265358979\n",
        "\n",
        "def circleArea(radius):\n",
        "    return PI*radius*radius\n",
        "\n",
        "def circleCircumference(radius):\n",
        "    return 2*PI*radius\n",
        "\n",
        "def main():\n",
        "    print('반지름이 5인 원의 면적: ', circleArea(5))\n",
        "    print('반지름이 5인 원의 둘레: ', circleCircumference(5))\n",
        "\n",
        "main()\n"
      ],
      "execution_count": 8,
      "outputs": [
        {
          "output_type": "stream",
          "name": "stdout",
          "text": [
            "반지름이 5인 원의 면적:  78.53981633974475\n",
            "반지름이 5인 원의 둘레:  31.4159265358979\n"
          ]
        }
      ]
    },
    {
      "cell_type": "code",
      "metadata": {
        "colab": {
          "base_uri": "https://localhost:8080/"
        },
        "id": "WwL6y8_wAVzh",
        "outputId": "c24ec7cc-ca6e-454e-ea43-352f2f417571"
      },
      "source": [
        "def add(a, b):\n",
        "    print( \"(%d- %d)\"%(a, b), end=\" \")\n",
        "    return a+b\n",
        "\n",
        "def subtract(a, b):\n",
        "    print(\"(%d-%d)\"%(a, b), end=\" \")\n",
        "    return a-b\n",
        "\n",
        "def multiply(a, b):\n",
        "    print(\"(%d*%d)\"% (a, b), end=\" \")\n",
        "\n",
        "def divide(a, b):\n",
        "    print(\"(%d / %d)\"%(a, b), end=\" \")\n",
        "    return a/Birthday\n",
        "\n",
        "\n",
        "what=add(20, 10)\n",
        "print(\"=\", what)\n"
      ],
      "execution_count": 13,
      "outputs": [
        {
          "output_type": "stream",
          "name": "stdout",
          "text": [
            "(20- 10) = 30\n"
          ]
        }
      ]
    }
  ]
}