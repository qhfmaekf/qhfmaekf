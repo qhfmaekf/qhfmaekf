{
  "nbformat": 4,
  "nbformat_minor": 0,
  "metadata": {
    "colab": {
      "name": "21.11.28",
      "provenance": [],
      "authorship_tag": "ABX9TyO6V9hASUG4pvIqmtSL5Src",
      "include_colab_link": true
    },
    "kernelspec": {
      "name": "python3",
      "display_name": "Python 3"
    },
    "language_info": {
      "name": "python"
    }
  },
  "cells": [
    {
      "cell_type": "markdown",
      "metadata": {
        "id": "view-in-github",
        "colab_type": "text"
      },
      "source": [
        "<a href=\"https://colab.research.google.com/github/qhfmaekf/qhfmaekf/blob/main/21_11_28.ipynb\" target=\"_parent\"><img src=\"https://colab.research.google.com/assets/colab-badge.svg\" alt=\"Open In Colab\"/></a>"
      ]
    },
    {
      "cell_type": "code",
      "metadata": {
        "colab": {
          "base_uri": "https://localhost:8080/"
        },
        "id": "WaTOzoQSeEsa",
        "outputId": "d66cd159-35f5-4169-85d3-06d234f54dad"
      },
      "source": [
        "# 6장 연습문제\n",
        "\n",
        "year=0\n",
        "balance=1000\n",
        "\n",
        "while balance >= 2000:\n",
        "  year = year+1\n",
        "  interest = balance * 0.07\n",
        "  balance = balance + interest\n",
        "print(year, \"년이 걸립니다.\")"
      ],
      "execution_count": 3,
      "outputs": [
        {
          "output_type": "stream",
          "name": "stdout",
          "text": [
            "0 년이 걸립니다.\n"
          ]
        }
      ]
    },
    {
      "cell_type": "code",
      "metadata": {
        "colab": {
          "base_uri": "https://localhost:8080/"
        },
        "id": "9-jejx2deVOw",
        "outputId": "28b128f8-30fe-404c-f257-aa1cc004d53d"
      },
      "source": [
        "n = 1234\n",
        "sum = 0\n",
        "while n > 0:\n",
        "  digit = n %10\n",
        "  sum = sum + digit\n",
        "  n = n // 10\n",
        "print(sum)"
      ],
      "execution_count": 4,
      "outputs": [
        {
          "output_type": "stream",
          "name": "stdout",
          "text": [
            "10\n"
          ]
        }
      ]
    }
  ]
}