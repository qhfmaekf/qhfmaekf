{
  "nbformat": 4,
  "nbformat_minor": 0,
  "metadata": {
    "colab": {
      "name": "21.11.15",
      "provenance": [],
      "authorship_tag": "ABX9TyMuRU7f70aMcO57pRU1+w0F",
      "include_colab_link": true
    },
    "kernelspec": {
      "name": "python3",
      "display_name": "Python 3"
    },
    "language_info": {
      "name": "python"
    }
  },
  "cells": [
    {
      "cell_type": "markdown",
      "metadata": {
        "id": "view-in-github",
        "colab_type": "text"
      },
      "source": [
        "<a href=\"https://colab.research.google.com/github/qhfmaekf/qhfmaekf/blob/main/21_11_15.ipynb\" target=\"_parent\"><img src=\"https://colab.research.google.com/assets/colab-badge.svg\" alt=\"Open In Colab\"/></a>"
      ]
    },
    {
      "cell_type": "code",
      "metadata": {
        "colab": {
          "base_uri": "https://localhost:8080/"
        },
        "id": "Q_qnc8tNQub0",
        "outputId": "364164d8-584c-4d28-8eea-a4d1b51ba898"
      },
      "source": [
        "score=int(input(\"성적을 입력하시오.: \"))\n",
        "\n",
        "if score >= 90:\n",
        "  print(\"A학점입니다.\")\n",
        "elif score >=80:\n",
        "  print(\"B학점입니다.\")\n",
        "elif score >=70:\n",
        "  print(\"C학점입니다.\")\n",
        "elif score >=60:\n",
        "  print(\"D학점입니다.\")\n",
        "else:\n",
        "  print(\"F학점입니다.\")"
      ],
      "execution_count": 4,
      "outputs": [
        {
          "output_type": "stream",
          "name": "stdout",
          "text": [
            "성적을 입력하시오.: 85\n",
            "B학점입니다.\n"
          ]
        }
      ]
    }
  ]
}