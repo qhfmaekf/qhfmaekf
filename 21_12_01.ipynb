{
  "nbformat": 4,
  "nbformat_minor": 0,
  "metadata": {
    "colab": {
      "name": "21.12.01",
      "provenance": [],
      "authorship_tag": "ABX9TyNSzmyszon1tmaENmPtmLYk",
      "include_colab_link": true
    },
    "kernelspec": {
      "name": "python3",
      "display_name": "Python 3"
    },
    "language_info": {
      "name": "python"
    }
  },
  "cells": [
    {
      "cell_type": "markdown",
      "metadata": {
        "id": "view-in-github",
        "colab_type": "text"
      },
      "source": [
        "<a href=\"https://colab.research.google.com/github/qhfmaekf/qhfmaekf/blob/main/21_12_01.ipynb\" target=\"_parent\"><img src=\"https://colab.research.google.com/assets/colab-badge.svg\" alt=\"Open In Colab\"/></a>"
      ]
    },
    {
      "cell_type": "code",
      "metadata": {
        "colab": {
          "base_uri": "https://localhost:8080/"
        },
        "id": "iw4P661VpN1J",
        "outputId": "515b9b56-7434-441f-f613-149d85e7c35a"
      },
      "source": [
        "#연습문제 6장\n",
        "for i in range(2, 101):\n",
        "      if i%2==0:\n",
        "        print(i, end=\" \")"
      ],
      "execution_count": 2,
      "outputs": [
        {
          "output_type": "stream",
          "name": "stdout",
          "text": [
            "2 4 6 8 10 12 14 16 18 20 22 24 26 28 30 32 34 36 38 40 42 44 46 48 50 52 54 56 58 60 62 64 66 68 70 72 74 76 78 80 82 84 86 88 90 92 94 96 98 100 "
          ]
        }
      ]
    },
    {
      "cell_type": "code",
      "metadata": {
        "colab": {
          "base_uri": "https://localhost:8080/"
        },
        "id": "olZO-d_upgNx",
        "outputId": "1981570b-05d3-44ea-91ce-207ef2b2465e"
      },
      "source": [
        "year=0\n",
        "balance=1000\n",
        "\n",
        "while balance <= 2000:\n",
        "      year=year+1\n",
        "      interest=balance * 0.07\n",
        "      balance=balance+interest\n",
        "print(year, \"년이 걸립니다.\")"
      ],
      "execution_count": 3,
      "outputs": [
        {
          "output_type": "stream",
          "name": "stdout",
          "text": [
            "11 년이 걸립니다.\n"
          ]
        }
      ]
    },
    {
      "cell_type": "code",
      "metadata": {
        "colab": {
          "base_uri": "https://localhost:8080/"
        },
        "id": "_ItyRxVzqPsV",
        "outputId": "ea07b2a8-b87f-43fb-f4b3-0a5920bb0ee4"
      },
      "source": [
        "ans=0\n",
        "while ans !=3*9:\n",
        "  ans = int (input(\"3*9는\"))\n",
        "print(\"맞았습니다.\")"
      ],
      "execution_count": 6,
      "outputs": [
        {
          "output_type": "stream",
          "name": "stdout",
          "text": [
            "3*9는27\n",
            "맞았습니다.\n"
          ]
        }
      ]
    },
    {
      "cell_type": "code",
      "metadata": {
        "colab": {
          "base_uri": "https://localhost:8080/"
        },
        "id": "vPi9ub_SqUPb",
        "outputId": "a4b7eda6-ed9e-4636-ccf6-f0e7a0b0573c"
      },
      "source": [
        "sum=0\n",
        "while True:\n",
        "  x=int(input(\"정수를 입력하시오: \"))\n",
        "  if x ==0:\n",
        "    break;\n",
        "  sum=sum+x\n",
        "\n",
        "print(\"합은 \", sum, \"입니다.2\")"
      ],
      "execution_count": 10,
      "outputs": [
        {
          "output_type": "stream",
          "name": "stdout",
          "text": [
            "정수를 입력하시오: 32\n",
            "정수를 입력하시오: 56\n",
            "정수를 입력하시오: 75\n",
            "정수를 입력하시오: 95\n",
            "정수를 입력하시오: 22\n",
            "정수를 입력하시오: 77\n",
            "정수를 입력하시오: 88\n",
            "정수를 입력하시오: 55\n",
            "정수를 입력하시오: 11\n",
            "정수를 입력하시오: 45\n",
            "정수를 입력하시오: 6\n",
            "정수를 입력하시오: 1\n",
            "정수를 입력하시오: 0\n",
            "합은  563 입니다.\n"
          ]
        }
      ]
    },
    {
      "cell_type": "code",
      "metadata": {
        "colab": {
          "base_uri": "https://localhost:8080/"
        },
        "id": "rKHdT6UoquV_",
        "outputId": "43fc8f72-65e5-45f1-d0a7-d3e2e999de30"
      },
      "source": [
        "from random import randint\n",
        "\n",
        "for i in range(3):\n",
        "  d1= randint(1, 6)\n",
        "  d2= randint(1, 6)\n",
        "  print(\"첫번째 주사위=\", d1, \"두번째 주사위=\", d2)"
      ],
      "execution_count": 12,
      "outputs": [
        {
          "output_type": "stream",
          "name": "stdout",
          "text": [
            "첫번째 주사위= 1 두번째 주사위= 6\n",
            "첫번째 주사위= 5 두번째 주사위= 5\n",
            "첫번째 주사위= 3 두번째 주사위= 6\n"
          ]
        }
      ]
    },
    {
      "cell_type": "code",
      "metadata": {
        "id": "lOUqAe_96F-g"
      },
      "source": [
        ""
      ],
      "execution_count": null,
      "outputs": []
    }
  ]
}