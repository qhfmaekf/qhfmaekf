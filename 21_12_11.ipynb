{
  "nbformat": 4,
  "nbformat_minor": 0,
  "metadata": {
    "colab": {
      "name": "21.12.11",
      "provenance": [],
      "authorship_tag": "ABX9TyP0+T4Ch1aaGp02YSlH20Na",
      "include_colab_link": true
    },
    "kernelspec": {
      "name": "python3",
      "display_name": "Python 3"
    },
    "language_info": {
      "name": "python"
    }
  },
  "cells": [
    {
      "cell_type": "markdown",
      "metadata": {
        "id": "view-in-github",
        "colab_type": "text"
      },
      "source": [
        "<a href=\"https://colab.research.google.com/github/qhfmaekf/qhfmaekf/blob/main/21_12_11.ipynb\" target=\"_parent\"><img src=\"https://colab.research.google.com/assets/colab-badge.svg\" alt=\"Open In Colab\"/></a>"
      ]
    },
    {
      "cell_type": "code",
      "execution_count": 3,
      "metadata": {
        "colab": {
          "base_uri": "https://localhost:8080/"
        },
        "id": "z5yBagos3vHG",
        "outputId": "cc6e3821-103f-429d-ba4b-90ef8bfa903a"
      },
      "outputs": [
        {
          "output_type": "stream",
          "name": "stdout",
          "text": [
            "#########################\n",
            "# 오늘의 산수 문제 #\n",
            "#########################\n",
            "\n",
            "8 / 4\n"
          ]
        }
      ],
      "source": [
        "#도전문제 9장\n",
        "import random\n",
        "\n",
        "question = [\"56 / 8\", \"8 * 9\", \"50 - 25\", \"1 + 6\", \"81 / 9\",\n",
        "            \"22 + 10\", \"8 / 4\", \"9 * 7\", \"17 - 4\", \"3 + 5\"] #여러 문제가 제시된다. \n",
        "dailyQuestion = random.choice(question) #위에 제시된 문제들 중 랜덤으로 하나가 제시된다. \n",
        "print(\"#########################\")\n",
        "print(\"# 오늘의 산수 문제 #\")\n",
        "print(\"#########################\")\n",
        "print(\"\")\n",
        "print(dailyQuestion)\n"
      ]
    },
    {
      "cell_type": "code",
      "source": [
        "items = {\"커피음료\": 7, \"펜\": 3, \"종이컵\": 2, \"우유\": 1, \"콜라\": 4, \"책\": 5}\n",
        "\n",
        "while True:\n",
        "   print(\"\")\n",
        "   print(\"# 재고 목록 #\")\n",
        "   for key in sorted(items.keys()):\n",
        "       print(key, items[key])\n",
        "\n",
        "   print(\"\\n********************\")\n",
        "   print(\"0. 종료\")\n",
        "   print(\"1. 재고 추가\")\n",
        "   print(\"2. 재고 삭제\")\n",
        "   print(\"********************\\n\") \n",
        "   a = int(input(\"무엇을 하시겠습니까?: \"))\n",
        " \n",
        "   if a == 1: \n",
        "        item = input(\"물건의 이름을 입력하시오: \")\n",
        "        num = input(\"몇개를 추가하시겠습니까? :\")\n",
        "        items[item] = int(items[item]) + int(num)\n",
        "\n",
        "   elif a == 2:\n",
        "        item = input(\"물건의 이름을 입력하시오: \")\n",
        "        num = input(\"몇개를 삭제하시겠습니까? :\")\n",
        "        items[item] = int(items[item]) - int(num)\n",
        " \n",
        "   else:\n",
        "       break"
      ],
      "metadata": {
        "colab": {
          "base_uri": "https://localhost:8080/"
        },
        "id": "NRlPoNqK4EnU",
        "outputId": "5154a4e7-fbdd-4a31-f55d-6b1979fee029"
      },
      "execution_count": 5,
      "outputs": [
        {
          "name": "stdout",
          "output_type": "stream",
          "text": [
            "\n",
            "# 재고 목록 #\n",
            "우유 1\n",
            "종이컵 2\n",
            "책 5\n",
            "커피음료 7\n",
            "콜라 4\n",
            "펜 3\n",
            "\n",
            "********************\n",
            "0. 종료\n",
            "1. 재고 추가\n",
            "2. 재고 삭제\n",
            "********************\n",
            "\n",
            "무엇을 하시겠습니까?: 2\n",
            "물건의 이름을 입력하시오: 커피음료\n",
            "몇개를 삭제하시겠습니까? :6\n",
            "\n",
            "# 재고 목록 #\n",
            "우유 1\n",
            "종이컵 2\n",
            "책 5\n",
            "커피음료 1\n",
            "콜라 4\n",
            "펜 3\n",
            "\n",
            "********************\n",
            "0. 종료\n",
            "1. 재고 추가\n",
            "2. 재고 삭제\n",
            "********************\n",
            "\n",
            "무엇을 하시겠습니까?: 0\n"
          ]
        }
      ]
    },
    {
      "cell_type": "code",
      "source": [
        "english_dict = dict()\n",
        "\n",
        "english_dict['하나'] = 'one'\n",
        "english_dict['둘'] = 'two'\n",
        "english_dict['셋'] = 'three'\n",
        "\n",
        "word = input(\"단어를 입력하시오: \")\n",
        "print (english_dict[word])\n",
        "\n"
      ],
      "metadata": {
        "id": "d_JZRzU36HLC"
      },
      "execution_count": null,
      "outputs": []
    },
    {
      "cell_type": "code",
      "source": [
        ""
      ],
      "metadata": {
        "id": "n8EivLQT6Wp-"
      },
      "execution_count": null,
      "outputs": []
    },
    {
      "cell_type": "code",
      "source": [
        "english_dict = dict()\n",
        "\n",
        "english_dict['하나'] = 'one'\n",
        "english_dict['둘'] = 'two'\n",
        "english_dict['셋'] = 'three'\n",
        "\n",
        "word = input(\"단어를 입력하시오: \")\n",
        "print (english_dict[word])\n",
        "\n",
        "import smtplib\n",
        "from email.mime.text import MIMEText\n",
        "me = 'abc@server.kr' # 보내는 사람 메일 주소\n",
        "you = ['def1@server.com','def2@server.com','def3@server.com'] # 받는 사람 메일 주\n",
        "소\n",
        "contents = '12월 20일에 동창회가 있으니 참석해주시기 바랍니다.'\n",
        "msg = MIMEText(contents, _charset='euc-kr')\n",
        "msg['Subject'] = '동창회 모임' msg['From'] = me\n",
        "msg['To'] = you\n",
        "server = smtplib.SMTP('smtp.gmail.com', 587)\n",
        "server.ehlo()\n",
        "server.starttls()\n",
        "server.ehlo()\n",
        "server.login(\"자신의 아이디\", \"패스워드\")\n",
        "for i in range(len(you)):\n",
        " server.sendmail(me, you[i], msg.as_string())\n",
        "server.quit()"
      ],
      "metadata": {
        "id": "AoX_wR3V6Z96"
      },
      "execution_count": null,
      "outputs": []
    },
    {
      "cell_type": "code",
      "source": [
        "english_dict = dict()\n",
        "\n",
        "english_dict['하나'] = 'one'\n",
        "english_dict['둘'] = 'two'\n",
        "english_dict['셋'] = 'three'\n",
        "\n",
        "word = input(\"단어를 입력하시오: \")\n",
        "print (english_dict[word])\n",
        "\n",
        "import smtplib\n",
        "from email.mime.text import MIMEText\n",
        "me = 'abc@server.kr' # 보내는 사람 메일 주소\n",
        "you = ['def1@server.com','def2@server.com','def3@server.com'] # 받는 사람 메일 주\n",
        "소\n",
        "contents = '12월 20일에 동창회가 있으니 참석해주시기 바랍니다.'\n",
        "msg = MIMEText(contents, _charset='euc-kr')\n",
        "msg['Subject'] = '동창회 모임' msg['From'] = me\n",
        "msg['To'] = you\n",
        "server = smtplib.SMTP('smtp.gmail.com', 587)\n",
        "server.ehlo()\n",
        "server.starttls()\n",
        "server.ehlo()\n",
        "server.login(\"자신의 아이디\", \"패스워드\")\n",
        "for i in range(len(you)):\n",
        " server.sendmail(me, you[i], msg.as_string())\n",
        "server.quit()"
      ],
      "metadata": {
        "id": "sLi4H9Fx6aF9"
      },
      "execution_count": null,
      "outputs": []
    },
    {
      "cell_type": "code",
      "source": [
        "english_dict = dict() #영단어와 뜻을 입력한다.\n",
        "\n",
        "english_dict['하나'] = 'one'\n",
        "english_dict['둘'] = 'two'\n",
        "english_dict['셋'] = 'three'\n",
        "\n",
        "word = input(\"단어를 입력하시오: \")  #괄호에 뜻을 적으면 그에 따른 영단어가 츨력된다. \n",
        "print (english_dict[word])"
      ],
      "metadata": {
        "colab": {
          "base_uri": "https://localhost:8080/"
        },
        "id": "ykbfXpJU6aG5",
        "outputId": "d24d1d4f-7845-49c0-fc6d-b77529950efc"
      },
      "execution_count": 8,
      "outputs": [
        {
          "output_type": "stream",
          "name": "stdout",
          "text": [
            "단어를 입력하시오: 하나\n",
            "one\n"
          ]
        }
      ]
    },
    {
      "cell_type": "code",
      "source": [
        "import smtplib\n",
        "from email.mime.text import MIMEText\n",
        "\n",
        "me = 'abc@server.kr' # 보내는 사람 메일 주소\n",
        "you = ['def1@server.com','def2@server.com','def3@server.com'] # 받는 사람 메일 주소\n",
        "contents = '12월 20일에 동창회가 있으니 참석해주시기 바랍니다.'\n",
        "\n",
        "msg = MIMEText(contents, _charset='euc-kr')\n",
        "msg['Subject'] = '동창회 모임' \n",
        "msg['From'] = me\n",
        "msg['To'] = you\n",
        "\n",
        "server = smtplib.SMTP('smtp.gmail.com', 587)\n",
        "server.ehlo()\n",
        "server.starttls()\n",
        "server.ehlo()\n",
        "\n",
        "server.login(\"자신의 아이디\", \"패스워드\")\n",
        "\n",
        "for i in range(len(you)):\n",
        "   server.sendmail(me, you[i], msg.as_string())\n",
        "server.quit()"
      ],
      "metadata": {
        "colab": {
          "base_uri": "https://localhost:8080/",
          "height": 400
        },
        "id": "VShRDF_j6aHe",
        "outputId": "5852a6df-44f6-48ce-cbd6-eefe1695938f"
      },
      "execution_count": 11,
      "outputs": [
        {
          "output_type": "error",
          "ename": "UnicodeEncodeError",
          "evalue": "ignored",
          "traceback": [
            "\u001b[0;31m---------------------------------------------------------------------------\u001b[0m",
            "\u001b[0;31mUnicodeEncodeError\u001b[0m                        Traceback (most recent call last)",
            "\u001b[0;32m<ipython-input-11-a12076304f92>\u001b[0m in \u001b[0;36m<module>\u001b[0;34m()\u001b[0m\n\u001b[1;32m     16\u001b[0m \u001b[0mserver\u001b[0m\u001b[0;34m.\u001b[0m\u001b[0mehlo\u001b[0m\u001b[0;34m(\u001b[0m\u001b[0;34m)\u001b[0m\u001b[0;34m\u001b[0m\u001b[0;34m\u001b[0m\u001b[0m\n\u001b[1;32m     17\u001b[0m \u001b[0;34m\u001b[0m\u001b[0m\n\u001b[0;32m---> 18\u001b[0;31m \u001b[0mserver\u001b[0m\u001b[0;34m.\u001b[0m\u001b[0mlogin\u001b[0m\u001b[0;34m(\u001b[0m\u001b[0;34m\"자신의 아이디\"\u001b[0m\u001b[0;34m,\u001b[0m \u001b[0;34m\"패스워드\"\u001b[0m\u001b[0;34m)\u001b[0m\u001b[0;34m\u001b[0m\u001b[0;34m\u001b[0m\u001b[0m\n\u001b[0m\u001b[1;32m     19\u001b[0m \u001b[0;34m\u001b[0m\u001b[0m\n\u001b[1;32m     20\u001b[0m \u001b[0;32mfor\u001b[0m \u001b[0mi\u001b[0m \u001b[0;32min\u001b[0m \u001b[0mrange\u001b[0m\u001b[0;34m(\u001b[0m\u001b[0mlen\u001b[0m\u001b[0;34m(\u001b[0m\u001b[0myou\u001b[0m\u001b[0;34m)\u001b[0m\u001b[0;34m)\u001b[0m\u001b[0;34m:\u001b[0m\u001b[0;34m\u001b[0m\u001b[0;34m\u001b[0m\u001b[0m\n",
            "\u001b[0;32m/usr/lib/python3.7/smtplib.py\u001b[0m in \u001b[0;36mlogin\u001b[0;34m(self, user, password, initial_response_ok)\u001b[0m\n\u001b[1;32m    724\u001b[0m                 (code, resp) = self.auth(\n\u001b[1;32m    725\u001b[0m                     \u001b[0mauthmethod\u001b[0m\u001b[0;34m,\u001b[0m \u001b[0mgetattr\u001b[0m\u001b[0;34m(\u001b[0m\u001b[0mself\u001b[0m\u001b[0;34m,\u001b[0m \u001b[0mmethod_name\u001b[0m\u001b[0;34m)\u001b[0m\u001b[0;34m,\u001b[0m\u001b[0;34m\u001b[0m\u001b[0;34m\u001b[0m\u001b[0m\n\u001b[0;32m--> 726\u001b[0;31m                     initial_response_ok=initial_response_ok)\n\u001b[0m\u001b[1;32m    727\u001b[0m                 \u001b[0;31m# 235 == 'Authentication successful'\u001b[0m\u001b[0;34m\u001b[0m\u001b[0;34m\u001b[0m\u001b[0;34m\u001b[0m\u001b[0m\n\u001b[1;32m    728\u001b[0m                 \u001b[0;31m# 503 == 'Error: already authenticated'\u001b[0m\u001b[0;34m\u001b[0m\u001b[0;34m\u001b[0m\u001b[0;34m\u001b[0m\u001b[0m\n",
            "\u001b[0;32m/usr/lib/python3.7/smtplib.py\u001b[0m in \u001b[0;36mauth\u001b[0;34m(self, mechanism, authobject, initial_response_ok)\u001b[0m\n\u001b[1;32m    633\u001b[0m         \u001b[0minitial_response\u001b[0m \u001b[0;34m=\u001b[0m \u001b[0;34m(\u001b[0m\u001b[0mauthobject\u001b[0m\u001b[0;34m(\u001b[0m\u001b[0;34m)\u001b[0m \u001b[0;32mif\u001b[0m \u001b[0minitial_response_ok\u001b[0m \u001b[0;32melse\u001b[0m \u001b[0;32mNone\u001b[0m\u001b[0;34m)\u001b[0m\u001b[0;34m\u001b[0m\u001b[0;34m\u001b[0m\u001b[0m\n\u001b[1;32m    634\u001b[0m         \u001b[0;32mif\u001b[0m \u001b[0minitial_response\u001b[0m \u001b[0;32mis\u001b[0m \u001b[0;32mnot\u001b[0m \u001b[0;32mNone\u001b[0m\u001b[0;34m:\u001b[0m\u001b[0;34m\u001b[0m\u001b[0;34m\u001b[0m\u001b[0m\n\u001b[0;32m--> 635\u001b[0;31m             \u001b[0mresponse\u001b[0m \u001b[0;34m=\u001b[0m \u001b[0mencode_base64\u001b[0m\u001b[0;34m(\u001b[0m\u001b[0minitial_response\u001b[0m\u001b[0;34m.\u001b[0m\u001b[0mencode\u001b[0m\u001b[0;34m(\u001b[0m\u001b[0;34m'ascii'\u001b[0m\u001b[0;34m)\u001b[0m\u001b[0;34m,\u001b[0m \u001b[0meol\u001b[0m\u001b[0;34m=\u001b[0m\u001b[0;34m''\u001b[0m\u001b[0;34m)\u001b[0m\u001b[0;34m\u001b[0m\u001b[0;34m\u001b[0m\u001b[0m\n\u001b[0m\u001b[1;32m    636\u001b[0m             \u001b[0;34m(\u001b[0m\u001b[0mcode\u001b[0m\u001b[0;34m,\u001b[0m \u001b[0mresp\u001b[0m\u001b[0;34m)\u001b[0m \u001b[0;34m=\u001b[0m \u001b[0mself\u001b[0m\u001b[0;34m.\u001b[0m\u001b[0mdocmd\u001b[0m\u001b[0;34m(\u001b[0m\u001b[0;34m\"AUTH\"\u001b[0m\u001b[0;34m,\u001b[0m \u001b[0mmechanism\u001b[0m \u001b[0;34m+\u001b[0m \u001b[0;34m\" \"\u001b[0m \u001b[0;34m+\u001b[0m \u001b[0mresponse\u001b[0m\u001b[0;34m)\u001b[0m\u001b[0;34m\u001b[0m\u001b[0;34m\u001b[0m\u001b[0m\n\u001b[1;32m    637\u001b[0m         \u001b[0;32melse\u001b[0m\u001b[0;34m:\u001b[0m\u001b[0;34m\u001b[0m\u001b[0;34m\u001b[0m\u001b[0m\n",
            "\u001b[0;31mUnicodeEncodeError\u001b[0m: 'ascii' codec can't encode characters in position 1-3: ordinal not in range(128)"
          ]
        }
      ]
    }
  ]
}