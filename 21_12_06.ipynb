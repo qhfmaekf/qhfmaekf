{
  "nbformat": 4,
  "nbformat_minor": 0,
  "metadata": {
    "colab": {
      "name": "21.12.06",
      "provenance": [],
      "authorship_tag": "ABX9TyPdqVnS191VSb+DgkO/G1vb",
      "include_colab_link": true
    },
    "kernelspec": {
      "name": "python3",
      "display_name": "Python 3"
    },
    "language_info": {
      "name": "python"
    }
  },
  "cells": [
    {
      "cell_type": "markdown",
      "metadata": {
        "id": "view-in-github",
        "colab_type": "text"
      },
      "source": [
        "<a href=\"https://colab.research.google.com/github/qhfmaekf/qhfmaekf/blob/main/21_12_06.ipynb\" target=\"_parent\"><img src=\"https://colab.research.google.com/assets/colab-badge.svg\" alt=\"Open In Colab\"/></a>"
      ]
    },
    {
      "cell_type": "code",
      "metadata": {
        "colab": {
          "base_uri": "https://localhost:8080/"
        },
        "id": "ra1H7lFHLCX8",
        "outputId": "3350344b-d16a-4679-c424-ceccb55a96ff"
      },
      "source": [
        "#연습문제 9장 \n",
        "alist=[]\n",
        "sum=0\n",
        "\n",
        "for i in range(5):\n",
        "    i=int(input(\"정수를 입력하시오: \"))\n",
        "    alist.append(i)\n",
        "\n",
        "for i in alist:\n",
        "    sum += i \n",
        "avg=sum/len(alist)\n",
        "print(\"평균=\", avg)"
      ],
      "execution_count": 2,
      "outputs": [
        {
          "output_type": "stream",
          "name": "stdout",
          "text": [
            "정수를 입력하시오: 56\n",
            "정수를 입력하시오: 78\n",
            "정수를 입력하시오: 2\n",
            "정수를 입력하시오: 14\n",
            "정수를 입력하시오: 36\n",
            "평균= 37.2\n"
          ]
        }
      ]
    },
    {
      "cell_type": "code",
      "metadata": {
        "colab": {
          "base_uri": "https://localhost:8080/"
        },
        "id": "MZfeQFoINhPj",
        "outputId": "418d3bff-1514-4085-d768-f74ffb679ed2"
      },
      "source": [
        "import random \n",
        "counters=[0, 0, 0, 0, 0, 0]\n",
        "\n",
        "for i in range(1000):\n",
        "      value=random.randint(0, 5)\n",
        "      counters[value]=counters[value]+1\n",
        "\n",
        "for i in range(6):\n",
        "      print(\"주사위가 \", i+1, \"인 경우는 \", counters[i], \"번\")"
      ],
      "execution_count": 6,
      "outputs": [
        {
          "output_type": "stream",
          "name": "stdout",
          "text": [
            "주사위가  1 인 경우는  146 번\n",
            "주사위가  2 인 경우는  170 번\n",
            "주사위가  3 인 경우는  168 번\n",
            "주사위가  4 인 경우는  169 번\n",
            "주사위가  5 인 경우는  170 번\n",
            "주사위가  6 인 경우는  177 번\n"
          ]
        }
      ]
    },
    {
      "cell_type": "code",
      "metadata": {
        "colab": {
          "base_uri": "https://localhost:8080/",
          "height": 137
        },
        "id": "V09SLB1MOy97",
        "outputId": "d5517323-3035-48fc-8645-b76fbc30ba53"
      },
      "source": [
        "contacts={ }\n",
        "while True:\n",
        "      name=input(\"(입력모드)이름을 입력하시오: \")\n",
        "      if not name:\n",
        "            break;\n",
        "      tel=input(\"전화번호를 입력하시오: \")\n",
        "      contacts[name]=tel\n",
        "\n",
        "while True:\n",
        "      name=input(\"(검색모드)이름을 입력하시오: \")\n",
        "      if not name:\n",
        "             break;\n",
        "      if name in contacts:\n",
        "              print(name, \"의 전화번호는\", contacts[name], \"입니다.\")\n",
        "      else:"
      ],
      "execution_count": 1,
      "outputs": [
        {
          "output_type": "error",
          "ename": "SyntaxError",
          "evalue": "ignored",
          "traceback": [
            "\u001b[0;36m  File \u001b[0;32m\"<ipython-input-1-b0c6c43675fa>\"\u001b[0;36m, line \u001b[0;32m15\u001b[0m\n\u001b[0;31m    else:\u001b[0m\n\u001b[0m         ^\u001b[0m\n\u001b[0;31mSyntaxError\u001b[0m\u001b[0;31m:\u001b[0m unexpected EOF while parsing\n"
          ]
        }
      ]
    },
    {
      "cell_type": "code",
      "metadata": {
        "colab": {
          "base_uri": "https://localhost:8080/"
        },
        "id": "jswJ-8x9Q7CA",
        "outputId": "9847bf0e-c6c1-4699-fee2-0b5f1bd67847"
      },
      "source": [
        "domains={\"kr\": \"대한민국\", \"us\": \"미국\", \"jp\": \"일본\", \"de\": \"독일\", \"sk\": \"슬로바키아\", \"hu\": \"헝가리\", \"no\": \"노르웨이\" }\n",
        "\n",
        "for k, v in domains.items():\n",
        "    print(k, \": \", v)"
      ],
      "execution_count": 2,
      "outputs": [
        {
          "output_type": "stream",
          "name": "stdout",
          "text": [
            "kr :  대한민국\n",
            "us :  미국\n",
            "jp :  일본\n",
            "de :  독일\n",
            "sk :  슬로바키아\n",
            "hu :  헝가리\n",
            "no :  노르웨이\n"
          ]
        }
      ]
    },
    {
      "cell_type": "code",
      "metadata": {
        "colab": {
          "base_uri": "https://localhost:8080/"
        },
        "id": "INw7nhOHV5qV",
        "outputId": "24822511-e875-4d92-fc5f-58db0bf3fa19"
      },
      "source": [
        "problems={'파이썬': '최근에 가장 떠오르는 프로그래밍 언어',\n",
        "          '변수': '데이터를 저장하는 메모리 공간',\n",
        "          '함수': '작업을 수행하는 문장들의 집합에 이름을 붙인 것',\n",
        "          '리스트': '서로 관련이 없는 항목들의 모임'}\n",
        "\n",
        "def show_words(problem):\n",
        "    display_message=\"\"\n",
        "    i=1\n",
        "    for word in problem.keys():\n",
        "        display_message+= \"(\"+str(i)+\")\"\n",
        "        display_message+=word+ \" \"\n",
        "        i+=1\n",
        "    print(display_message)\n",
        "\n",
        "for meaning in problems.values():\n",
        "    print(\"다음은 어떤 단어에 대한 설명일까요?\")\n",
        "    print(\"/\"\"데이터를 저장하는 메모리 공간\"\"/\")\n",
        "    correct=False\n",
        "    while not correct:\n",
        "      show_words(problems)\n",
        "      guessed_word=input(\"\")\n",
        "      if problems[guessed_word]==meaning:\n",
        "         print(\"정답입니다!\")\n",
        "         correct=True\n",
        "      else:\n",
        "        print(\"정답이 아닙니다.\")"
      ],
      "execution_count": null,
      "outputs": [
        {
          "output_type": "stream",
          "name": "stdout",
          "text": [
            "다음은 어떤 단어에 대한 설명일까요?\n",
            "/데이터를 저장하는 메모리 공간/\n",
            "(1)파이썬 (2)변수 (3)함수 (4)리스트 \n"
          ]
        }
      ]
    }
  ]
}