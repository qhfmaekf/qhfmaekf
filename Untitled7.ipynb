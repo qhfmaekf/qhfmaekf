{
  "nbformat": 4,
  "nbformat_minor": 0,
  "metadata": {
    "colab": {
      "name": "Untitled7.ipynb",
      "provenance": [],
      "authorship_tag": "ABX9TyOwmwHf3PNNYTGxs24aLSPM",
      "include_colab_link": true
    },
    "kernelspec": {
      "name": "python3",
      "display_name": "Python 3"
    },
    "language_info": {
      "name": "python"
    }
  },
  "cells": [
    {
      "cell_type": "markdown",
      "metadata": {
        "id": "view-in-github",
        "colab_type": "text"
      },
      "source": [
        "<a href=\"https://colab.research.google.com/github/qhfmaekf/qhfmaekf/blob/main/Untitled7.ipynb\" target=\"_parent\"><img src=\"https://colab.research.google.com/assets/colab-badge.svg\" alt=\"Open In Colab\"/></a>"
      ]
    },
    {
      "cell_type": "code",
      "metadata": {
        "colab": {
          "base_uri": "https://localhost:8080/"
        },
        "id": "pSiFuhOKcnIk",
        "outputId": "90cb026c-08ac-44fd-977b-4c42609cc7c7"
      },
      "source": [
        "#도전과제 \n",
        "print(\"안녕하세요?\")\n",
        "print(\"programming에 입문하신 것을 축하드립니다.\")"
      ],
      "execution_count": 22,
      "outputs": [
        {
          "output_type": "stream",
          "name": "stdout",
          "text": [
            "안녕하세요?\n",
            "programming에 입문하신 것을 축하드립니다.\n"
          ]
        }
      ]
    },
    {
      "cell_type": "code",
      "metadata": {
        "colab": {
          "base_uri": "https://localhost:8080/"
        },
        "id": "3q4bqDhZen0X",
        "outputId": "d29671a0-554a-4321-f0ee-1da5a70bcffb"
      },
      "source": [
        "print(3.141592*10.0*10.0)\n",
        "print((1/100)*1234)"
      ],
      "execution_count": 2,
      "outputs": [
        {
          "output_type": "stream",
          "name": "stdout",
          "text": [
            "314.1592\n",
            "12.34\n"
          ]
        }
      ]
    },
    {
      "cell_type": "code",
      "metadata": {
        "colab": {
          "base_uri": "https://localhost:8080/"
        },
        "id": "ZmugocJzji3B",
        "outputId": "5eeb65f0-5ee9-4187-f9b4-579f00076cba"
      },
      "source": [
        "x=7\n",
        "y=6\n",
        "print(x+y)\n",
        "\n",
        "x='7'\n",
        "y='6'\n",
        "print(x+y)\n"
      ],
      "execution_count": 7,
      "outputs": [
        {
          "output_type": "stream",
          "name": "stdout",
          "text": [
            "13\n",
            "76\n"
          ]
        }
      ]
    },
    {
      "cell_type": "code",
      "metadata": {
        "colab": {
          "base_uri": "https://localhost:8080/"
        },
        "id": "guR3bBNTj-Ey",
        "outputId": "4e9c302d-f61e-4e2f-ea36-037df75b5acd"
      },
      "source": [
        "x=int(input(\"첫 번째 정수를 입력하시오: \"))\n",
        "y=int(input(\"두 번째 정수를 입력하시오: \"))\n",
        "\n",
        "print(x, \"+\", y, \"=\", x+y) #더하기\n",
        "print(x, \"-\", y, \"=\", x-y) #빼기\n",
        "print(x, \"*\", y, \"=\", x*y) #곱하기\n",
        "print(x, \"/\", y, \"=\", x/y) #나누기"
      ],
      "execution_count": 8,
      "outputs": [
        {
          "output_type": "stream",
          "name": "stdout",
          "text": [
            "첫 번째 정수를 입력하시오: 5\n",
            "두 번째 정수를 입력하시오: 7\n",
            "5 + 7 = 12\n",
            "5 - 7 = -2\n",
            "5 * 7 = 35\n",
            "5 / 7 = 0.7142857142857143\n"
          ]
        }
      ]
    },
    {
      "cell_type": "code",
      "metadata": {
        "colab": {
          "base_uri": "https://localhost:8080/"
        },
        "id": "DW5IWYHtln4n",
        "outputId": "4546fa23-a6b3-4f4a-90cb-d3192bc8abb9"
      },
      "source": [
        "total=100000\n",
        "americano_price=2000\n",
        "cafelatte_price=3000\n",
        "capucino_price=3500\n",
        "\n",
        "americanos=int(input(\"아메리카노 판매 개수: \"))\n",
        "cafelattes=int(input(\"카페라테 판매 개수: \"))\n",
        "capucinos=int(input(\"카푸치노 판매 개수: \"))\n",
        "\n",
        "sales1 = americanos * americano_price\n",
        "sales2 = sales1 + cafelattes * cafelatte_price\n",
        "sales3 = sales2 + capucinos * capucino_price\n",
        "print(\"총 매출은\", sales3, \"입니다. \")\n",
        "\n",
        "if (total < sales3) : print(\"흑자입니다.\")\n",
        "eles : print(\"적자입니다.\")"
      ],
      "execution_count": 12,
      "outputs": [
        {
          "output_type": "stream",
          "name": "stdout",
          "text": [
            "아메리카노 판매 개수: 100\n",
            "카페라테 판매 개수: 50\n",
            "카푸치노 판매 개수: 25\n",
            "총 매출은 437500 입니다. \n",
            "흑자입니다.\n",
            "적자입니다.\n"
          ]
        }
      ]
    },
    {
      "cell_type": "code",
      "metadata": {
        "colab": {
          "base_uri": "https://localhost:8080/"
        },
        "id": "BJmK9T6TrSHh",
        "outputId": "6f0f99d1-5ea1-40bb-a7e4-44af02e4e666"
      },
      "source": [
        "ctemp=int(input(\"섭씨온도: \"))\n",
        "ftemp=9/5*ctemp+32\n",
        "print(\"화씨온도: \", ftemp)"
      ],
      "execution_count": 14,
      "outputs": [
        {
          "output_type": "stream",
          "name": "stdout",
          "text": [
            "섭씨온도: 5\n",
            "화씨온도:  41.0\n"
          ]
        }
      ]
    },
    {
      "cell_type": "code",
      "metadata": {
        "colab": {
          "base_uri": "https://localhost:8080/"
        },
        "id": "MI7qsF3lsBe1",
        "outputId": "93a36ee8-ad32-48fd-8b8f-fc6207a9064a"
      },
      "source": [
        "money=int(input(\"투입한 돈: \"))\n",
        "price=int(input(\"물건 값: \"))\n",
        "\n",
        "change=money-price\n",
        "print(\"거스름돈: \", change)\n",
        "coin500s=change//500  #500으로 나누어서 몫이 500원짜리의 개수\n",
        "change=change % 500   #500으로 나눈 나머지를 계산함. \n",
        "coin100s=change//100  #100으로 나누어서 몫이 100원짜리의 개수\n",
        "change=change%100     #100으로 나눈 나머지를 계산함.\n",
        "coin50s=change//50    #50으로 나누어서 몫이 50원짜리의 개수\n",
        "change=change%50      #50으로 나눈 나머지를 계산함.\n",
        "coin10s=change//10    #10으로 나누어서 몫이 10원짜리의 개수\n",
        "change=change%10      #10으로 나눈 나머지를 계산함.\n",
        "print(\"500원 동전의 개수: \", coin500s)\n",
        "print(\"100원 동전이 개수: \", coin100s)\n",
        "print(\"50원 동전의 개수: \", coin50s)\n",
        "print(\"10원 동전의 개수: \", coin10s)"
      ],
      "execution_count": 16,
      "outputs": [
        {
          "output_type": "stream",
          "name": "stdout",
          "text": [
            "투입한 돈: 50000\n",
            "물건 값: 42570\n",
            "거스름돈:  7430\n",
            "500원 동전의 개수:  14\n",
            "100원 동전이 개수:  4\n",
            "50원 동전의 개수:  0\n",
            "10원 동전의 개수:  3\n"
          ]
        }
      ]
    },
    {
      "cell_type": "code",
      "metadata": {
        "id": "YptP7yRRv8wa"
      },
      "source": [
        "money=int(input(\"투입한 돈: \"))\n",
        "price=int(input(\"물건 값: \"))\n",
        "\n",
        "change=money-price\n",
        "print(\"거스름돈: \", change)\n",
        "coin500s=change//500  #500으로 나누어서 몫이 500원짜리의 개수\n",
        "change=change % 500   #500으로 나눈 나머지를 계산함. \n",
        "coin100s=change//100  #100으로 나누어서 몫이 100원짜리의 개수\n"
      ],
      "execution_count": null,
      "outputs": []
    },
    {
      "cell_type": "code",
      "metadata": {
        "colab": {
          "base_uri": "https://localhost:8080/"
        },
        "id": "XPSxZ4bgwYxr",
        "outputId": "b5949f32-d9f9-4d57-ffba-8999e52bcde3"
      },
      "source": [
        "money=int(input(\"투입한 돈: \"))\n",
        "price=int(input(\"물건 값: \"))\n",
        "\n",
        "change=money-price\n",
        "print(\"거스름돈: \", change)\n",
        "coin500s=change//500  #500으로 나누어서 몫이 500원짜리의 개수\n",
        "change=change % 500   #500으로 나눈 나머지를 계산함. \n",
        "coin100s=change//100  #100으로 나누어서 몫이 100원짜리의 개수\n",
        "change=change%100     #100으로 나눈 나머지를 계산함.\n",
        "coin50s=change//50    #50으로 나누어서 몫이 50원짜리의 개수\n",
        "change=change%50      #50으로 나눈 나머지를 계산함.\n",
        "coin10s=change//10    #10으로 나누어서 몫이 10원짜리의 개수\n",
        "change=change%10      #10으로 나눈 나머지를 계산함.\n",
        "print(\"500원 동전의 개수: \", coin500s)  #거슬러 줄 500원짜리의 개수 출력\n",
        "print(\"100원 동전이 개수: \", coin100s)  #거슬러 줄 100원짜리의 개수 출력"
      ],
      "execution_count": 17,
      "outputs": [
        {
          "output_type": "stream",
          "name": "stdout",
          "text": [
            "투입한 돈: 10000\n",
            "물건 값: 8900\n",
            "거스름돈:  1100\n",
            "500원 동전의 개수:  2\n",
            "100원 동전이 개수:  1\n"
          ]
        }
      ]
    },
    {
      "cell_type": "code",
      "metadata": {
        "colab": {
          "base_uri": "https://localhost:8080/"
        },
        "id": "JMC4neXuwpu4",
        "outputId": "cea422e8-6fd7-4ad7-b9f2-83e080afd5a5"
      },
      "source": [
        "print(\"안녕하세요?\")\n",
        "name=input(\"이름이 어떻게 되시나요?\")\n",
        "print(\"만나서 반갑습니다\"+name+\"씨\")\n",
        "print(\"이름의 길이는 다음과 같군요: \", end= \"\")\n",
        "print(len(name))\n",
        "age=int(input(\"나이가 어떻게 되나요?\"))\n",
        "print(\"내년이면 \", str(age+1),\"이 되시는군요.\")\n",
        "hobby=input(\"취미가 무엇인가요?\")\n",
        "print(\"네 저도 \"+hobby+\"좋아합니다.\")"
      ],
      "execution_count": 19,
      "outputs": [
        {
          "output_type": "stream",
          "name": "stdout",
          "text": [
            "안녕하세요?\n",
            "이름이 어떻게 되시나요?김은서\n",
            "만나서 반갑습니다김은서씨\n",
            "이름의 길이는 다음과 같군요: 3\n",
            "나이가 어떻게 되나요?20\n",
            "내년이면  21 이 되시는군요.\n",
            "취미가 무엇인가요?노래부르기\n",
            "네 저도 노래부르기좋아합니다.\n"
          ]
        }
      ]
    },
    {
      "cell_type": "code",
      "metadata": {
        "colab": {
          "base_uri": "https://localhost:8080/"
        },
        "id": "ksMUfnnvyC45",
        "outputId": "c434b130-86bf-462a-cdb2-d22c1ac46285"
      },
      "source": [
        "year=input(\"오늘의 연도를 입력하시오: \")\n",
        "month=input(\"오늘의 월을 입력하시오: \")\n",
        "date=input(\"오늘의 일을 입력하시오: \")\n",
        "\n",
        "print(month+\"/\", date+\"/\",year)"
      ],
      "execution_count": 21,
      "outputs": [
        {
          "output_type": "stream",
          "name": "stdout",
          "text": [
            "오늘의 연도를 입력하시오: 2021\n",
            "오늘의 월을 입력하시오: 11\n",
            "오늘의 일을 입력하시오: 1\n",
            "11/ 1/ 2021\n"
          ]
        }
      ]
    },
    {
      "cell_type": "code",
      "metadata": {
        "colab": {
          "base_uri": "https://localhost:8080/"
        },
        "id": "CPaqKN0_yfaZ",
        "outputId": "1aa58860-178a-49e5-f054-f68fbaee4bba"
      },
      "source": [
        "#연습문제 1장\n",
        "print(\"환영합니다.\")\n",
        "print(\"파이썬의 세계에 오신 것을 환영합니다.\")\n",
        "print(\"파이썬은 강력합니다.\")"
      ],
      "execution_count": 23,
      "outputs": [
        {
          "output_type": "stream",
          "name": "stdout",
          "text": [
            "환영합니다.\n",
            "파이썬의 세계에 오신 것을 환영합니다.\n",
            "파이썬은 강력합니다.\n"
          ]
        }
      ]
    },
    {
      "cell_type": "code",
      "metadata": {
        "colab": {
          "base_uri": "https://localhost:8080/"
        },
        "id": "FoY1b9ay0sdR",
        "outputId": "bb1a082f-0832-4a18-bff4-f8050ef6259d"
      },
      "source": [
        "print(7*24)"
      ],
      "execution_count": 24,
      "outputs": [
        {
          "output_type": "stream",
          "name": "stdout",
          "text": [
            "168\n"
          ]
        }
      ]
    },
    {
      "cell_type": "code",
      "metadata": {
        "colab": {
          "base_uri": "https://localhost:8080/"
        },
        "id": "-sqwc3rY0xqx",
        "outputId": "ecaf7bce-6ffe-4d07-9abc-2985f415d391"
      },
      "source": [
        "name=input(\"이름을 입력하시오: \")\n",
        "age=int(input(\"나이를 입력하시오: \"))\n",
        "year=2021-age+100\n",
        "print(name+\"씨는 \"+str(year)+\"년에 100살이시네요!\")"
      ],
      "execution_count": 25,
      "outputs": [
        {
          "output_type": "stream",
          "name": "stdout",
          "text": [
            "이름을 입력하시오: 김은서\n",
            "나이를 입력하시오: 20\n",
            "김은서씨는 2101년에 100살이시네요!\n"
          ]
        }
      ]
    },
    {
      "cell_type": "code",
      "metadata": {
        "colab": {
          "base_uri": "https://localhost:8080/"
        },
        "id": "t4QUL4aM1cgP",
        "outputId": "d55459cf-a11d-43d2-8818-863536a2bfec"
      },
      "source": [
        "n1=int(input(\"첫 번째 숫자를 입력하시오: \"))\n",
        "n2=int(input(\"두 번째 숫자를 입력하시오: \"))\n",
        "n3=int(input(\"세 번째 숫자를 입력하시오: \"))\n",
        "\n",
        "average=(n1+n2+n3)/3\n",
        "\n",
        "print(n1, n2, n3,\"의 평균은\", average, \"입니다.\")"
      ],
      "execution_count": 27,
      "outputs": [
        {
          "output_type": "stream",
          "name": "stdout",
          "text": [
            "첫 번째 숫자를 입력하시오: 80\n",
            "두 번째 숫자를 입력하시오: 75\n",
            "세 번째 숫자를 입력하시오: 100\n",
            "80 75 100 의 평균은 85.0 입니다.\n"
          ]
        }
      ]
    },
    {
      "cell_type": "code",
      "metadata": {
        "colab": {
          "base_uri": "https://localhost:8080/"
        },
        "id": "XjXPthlb2P77",
        "outputId": "9b02a0c3-46ac-42f4-a3f6-a08dbf82ecaf"
      },
      "source": [
        "radius=int(input(\"반지름을 입력하시오: \"))\n",
        "area=3.141592*radius*radius\n",
        "print(\"반지름이\", radius, \"인 원의 넓이=\", area, \"입니다.\")"
      ],
      "execution_count": 1,
      "outputs": [
        {
          "output_type": "stream",
          "name": "stdout",
          "text": [
            "반지름을 입력하시오: 3\n",
            "반지름이 3 인 원의 넓이= 28.274328000000004 입니다.\n"
          ]
        }
      ]
    },
    {
      "cell_type": "code",
      "metadata": {
        "colab": {
          "base_uri": "https://localhost:8080/"
        },
        "id": "tFtNG6YR52Ql",
        "outputId": "4a5151ae-91e8-47da-b439-302b2959e1b3"
      },
      "source": [
        "x=int(input(\"x: \"))\n",
        "y=int(input(\"y: \"))\n",
        "\n",
        "print(\"두수의 합: \", x+y)\n",
        "print(\"두수의 차: \", x-y)\n",
        "print(\"두수의 곱: \", x*y)\n",
        "print(\"두수의 평균: \", (x+y)/2)\n",
        "print(\"큰수: \", max(x, y))\n",
        "print(\"작은수: \", min(x, y))"
      ],
      "execution_count": 8,
      "outputs": [
        {
          "output_type": "stream",
          "name": "stdout",
          "text": [
            "x: 5\n",
            "y: 9\n",
            "두수의 합:  14\n",
            "두수의 차:  -4\n",
            "두수의 곱:  45\n",
            "두수의 평균:  7.0\n",
            "큰수:  9\n",
            "작은수:  5\n"
          ]
        }
      ]
    },
    {
      "cell_type": "code",
      "metadata": {
        "colab": {
          "base_uri": "https://localhost:8080/"
        },
        "id": "UfQdiU1c64UZ",
        "outputId": "ed07c49e-13c1-446e-8c88-ed824476779c"
      },
      "source": [
        "r=float(input(\"r: \"))\n",
        "h=float(input(\"h: \"))\n",
        "\n",
        "vol=3.141592*r**2*h\n",
        "print(\"원기둥의 부피: \", vol)"
      ],
      "execution_count": 4,
      "outputs": [
        {
          "output_type": "stream",
          "name": "stdout",
          "text": [
            "r: 6\n",
            "h: 8\n",
            "원기둥의 부피:  904.778496\n"
          ]
        }
      ]
    },
    {
      "cell_type": "code",
      "metadata": {
        "colab": {
          "base_uri": "https://localhost:8080/"
        },
        "id": "hL7BYYf3-J5Z",
        "outputId": "75595515-999f-4073-c431-faef79470986"
      },
      "source": [
        "number=int(input(\"정수를 입력하시오: \"))\n",
        "\n",
        "sum=0\n",
        "sum=sum+number%10\n",
        "number=number//10\n",
        "sum=sum+number%10\n",
        "number=number//10\n",
        "sum=sum+number%10\n",
        "number=number//10\n",
        "sum=sum+number%10\n",
        "number=number//10\n",
        "print(\"자리수의 합: \", str(sum))"
      ],
      "execution_count": 6,
      "outputs": [
        {
          "output_type": "stream",
          "name": "stdout",
          "text": [
            "정수를 입력하시오: 1000\n",
            "자리수의 합:  1\n"
          ]
        }
      ]
    },
    {
      "cell_type": "code",
      "metadata": {
        "colab": {
          "base_uri": "https://localhost:8080/"
        },
        "id": "fn0g2lpJ_hMq",
        "outputId": "a292f83f-5537-4de4-e96e-e56ff41bd43d"
      },
      "source": [
        "x1=int(input(\"x1: \"))\n",
        "y1=int(input(\"y1: \"))\n",
        "x2=int(input(\"x2: \"))\n",
        "y2=int(input(\"y2: \"))\n",
        "dist=((x2-x1)**2+(y2-y1)**2)**0.5\n",
        "print(\"두점 사이의 거리=\", dist)"
      ],
      "execution_count": 7,
      "outputs": [
        {
          "output_type": "stream",
          "name": "stdout",
          "text": [
            "x1: 5\n",
            "y1: 8\n",
            "x2: 6\n",
            "y2: 9\n",
            "두점 사이의 거리= 1.4142135623730951\n"
          ]
        }
      ]
    },
    {
      "cell_type": "code",
      "metadata": {
        "colab": {
          "base_uri": "https://localhost:8080/"
        },
        "id": "vd7UsaCRNtt7",
        "outputId": "3a64166f-2d7f-46c2-87b7-829d6dc30926"
      },
      "source": [
        "import time\n",
        "\n",
        "fseconds=time.time()\n",
        "total_sec=int(fseconds)\n",
        "total_min=total_sec//60\n",
        "minute=total_min%60\n",
        "total_hour=total_min//60\n",
        "hour=total_hour%24\n",
        "\n",
        "print(\"현재 시간(영국 그리니치 시각): \"+str(hour)+\"시\"+str(minute)+\"분\")"
      ],
      "execution_count": 9,
      "outputs": [
        {
          "output_type": "stream",
          "name": "stdout",
          "text": [
            "현재 시간(영국 그리니치 시각): 16시3분\n"
          ]
        }
      ]
    },
    {
      "cell_type": "code",
      "metadata": {
        "colab": {
          "base_uri": "https://localhost:8080/"
        },
        "id": "cZdOvPXSP97u",
        "outputId": "fe7d8216-3042-42ae-e0cc-d47edb33459c"
      },
      "source": [
        "mass=float(input(\"물체의 무게를 입력하시오(킬로그램): \"))\n",
        "velocity=float(input(\"물체의 속도를 입력하시오(미터/초): \"))\n",
        "\n",
        "energy=0.5*mass*velocity**2\n",
        "print(\"물체는 \"+str(energy)+\" (줄)의 에너지를 가지고 있다.\")"
      ],
      "execution_count": 11,
      "outputs": [
        {
          "output_type": "stream",
          "name": "stdout",
          "text": [
            "물체의 무게를 입력하시오(킬로그램): 50\n",
            "물체의 속도를 입력하시오(미터/초): 100\n",
            "물체는 250000.0 (줄)의 에너지를 가지고 있다.\n"
          ]
        }
      ]
    }
  ]
}