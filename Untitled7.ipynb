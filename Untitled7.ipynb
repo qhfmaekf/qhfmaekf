{
  "nbformat": 4,
  "nbformat_minor": 0,
  "metadata": {
    "colab": {
      "name": "Untitled7.ipynb",
      "provenance": [],
      "authorship_tag": "ABX9TyPVA2w4T3t86qtLI9WxHzYH",
      "include_colab_link": true
    },
    "kernelspec": {
      "name": "python3",
      "display_name": "Python 3"
    },
    "language_info": {
      "name": "python"
    }
  },
  "cells": [
    {
      "cell_type": "markdown",
      "metadata": {
        "id": "view-in-github",
        "colab_type": "text"
      },
      "source": [
        "<a href=\"https://colab.research.google.com/github/qhfmaekf/qhfmaekf/blob/main/Untitled7.ipynb\" target=\"_parent\"><img src=\"https://colab.research.google.com/assets/colab-badge.svg\" alt=\"Open In Colab\"/></a>"
      ]
    },
    {
      "cell_type": "code",
      "metadata": {
        "colab": {
          "base_uri": "https://localhost:8080/"
        },
        "id": "pSiFuhOKcnIk",
        "outputId": "479f6df9-bae9-425a-b2c1-3e3ea188c851"
      },
      "source": [
        "print(\"안녕하세요?\")\n",
        "print(\"programming에 입문하신 것을 축하드립니다.\")"
      ],
      "execution_count": 1,
      "outputs": [
        {
          "output_type": "stream",
          "name": "stdout",
          "text": [
            "안녕하세요?\n",
            "programming에 입문하신 것을 축하드립니다.\n"
          ]
        }
      ]
    },
    {
      "cell_type": "code",
      "metadata": {
        "colab": {
          "base_uri": "https://localhost:8080/"
        },
        "id": "3q4bqDhZen0X",
        "outputId": "d29671a0-554a-4321-f0ee-1da5a70bcffb"
      },
      "source": [
        "print(3.141592*10.0*10.0)\n",
        "print((1/100)*1234)"
      ],
      "execution_count": 2,
      "outputs": [
        {
          "output_type": "stream",
          "name": "stdout",
          "text": [
            "314.1592\n",
            "12.34\n"
          ]
        }
      ]
    },
    {
      "cell_type": "code",
      "metadata": {
        "colab": {
          "base_uri": "https://localhost:8080/"
        },
        "id": "ZmugocJzji3B",
        "outputId": "5eeb65f0-5ee9-4187-f9b4-579f00076cba"
      },
      "source": [
        "x=7\n",
        "y=6\n",
        "print(x+y)\n",
        "\n",
        "x='7'\n",
        "y='6'\n",
        "print(x+y)\n"
      ],
      "execution_count": 7,
      "outputs": [
        {
          "output_type": "stream",
          "name": "stdout",
          "text": [
            "13\n",
            "76\n"
          ]
        }
      ]
    },
    {
      "cell_type": "code",
      "metadata": {
        "colab": {
          "base_uri": "https://localhost:8080/"
        },
        "id": "guR3bBNTj-Ey",
        "outputId": "4e9c302d-f61e-4e2f-ea36-037df75b5acd"
      },
      "source": [
        "x=int(input(\"첫 번째 정수를 입력하시오: \"))\n",
        "y=int(input(\"두 번째 정수를 입력하시오: \"))\n",
        "\n",
        "print(x, \"+\", y, \"=\", x+y) #더하기\n",
        "print(x, \"-\", y, \"=\", x-y) #빼기\n",
        "print(x, \"*\", y, \"=\", x*y) #곱하기\n",
        "print(x, \"/\", y, \"=\", x/y) #나누기"
      ],
      "execution_count": 8,
      "outputs": [
        {
          "output_type": "stream",
          "name": "stdout",
          "text": [
            "첫 번째 정수를 입력하시오: 5\n",
            "두 번째 정수를 입력하시오: 7\n",
            "5 + 7 = 12\n",
            "5 - 7 = -2\n",
            "5 * 7 = 35\n",
            "5 / 7 = 0.7142857142857143\n"
          ]
        }
      ]
    },
    {
      "cell_type": "code",
      "metadata": {
        "colab": {
          "base_uri": "https://localhost:8080/"
        },
        "id": "DW5IWYHtln4n",
        "outputId": "4546fa23-a6b3-4f4a-90cb-d3192bc8abb9"
      },
      "source": [
        "total=100000\n",
        "americano_price=2000\n",
        "cafelatte_price=3000\n",
        "capucino_price=3500\n",
        "\n",
        "americanos=int(input(\"아메리카노 판매 개수: \"))\n",
        "cafelattes=int(input(\"카페라테 판매 개수: \"))\n",
        "capucinos=int(input(\"카푸치노 판매 개수: \"))\n",
        "\n",
        "sales1 = americanos * americano_price\n",
        "sales2 = sales1 + cafelattes * cafelatte_price\n",
        "sales3 = sales2 + capucinos * capucino_price\n",
        "print(\"총 매출은\", sales3, \"입니다. \")\n",
        "\n",
        "if (total < sales3) : print(\"흑자입니다.\")\n",
        "eles : print(\"적자입니다.\")"
      ],
      "execution_count": 12,
      "outputs": [
        {
          "output_type": "stream",
          "name": "stdout",
          "text": [
            "아메리카노 판매 개수: 100\n",
            "카페라테 판매 개수: 50\n",
            "카푸치노 판매 개수: 25\n",
            "총 매출은 437500 입니다. \n",
            "흑자입니다.\n",
            "적자입니다.\n"
          ]
        }
      ]
    }
  ]
}